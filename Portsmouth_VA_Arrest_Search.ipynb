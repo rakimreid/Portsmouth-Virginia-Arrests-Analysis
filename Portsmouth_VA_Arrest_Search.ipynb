{
 "cells": [
  {
   "cell_type": "code",
   "execution_count": 3,
   "id": "a3d17a05-e766-47c6-9f63-2e9e75a8c8b8",
   "metadata": {},
   "outputs": [],
   "source": [
    "\"\"\"Business Question: Crime is on the rise in the United States and Portsmouth, Virginia, is crime as bad as media and pundits claim?\n",
    "Data source: is Portsmouth, Virginia's Arrest Search for Thursday, November 17, 2022 to Friday, December 30, 2022. "
   ]
  },
  {
   "cell_type": "code",
   "execution_count": 4,
   "id": "7fae545f-a428-4431-8242-9e542d7ab327",
   "metadata": {},
   "outputs": [],
   "source": [
    "# Import Packages\n",
    "\n",
    "import pandas as pd\n",
    "import numpy as np\n",
    "import seaborn as sns\n"
   ]
  },
  {
   "cell_type": "code",
   "execution_count": 5,
   "id": "09fca0f3-2e07-439b-8347-832d915cdfd2",
   "metadata": {},
   "outputs": [],
   "source": [
    "# Read in the Excel data source\n",
    "\n",
    "df = pd.read_excel(\"C:/Users/rakim/OneDrive/Desktop/Portfolio/Data Engineer Track/Python/Portsmouth VA Arrest Search - 12 09 22/arrest.xlsx\")"
   ]
  },
  {
   "cell_type": "code",
   "execution_count": 6,
   "id": "c1b8df49-621e-4816-8936-4affc99f2a93",
   "metadata": {},
   "outputs": [],
   "source": [
    "# Combine Race and Sex columns into new column\n",
    "\n",
    "df[\"Race_Sex\"] = df[\"Race\"] + df[\"Sex\"]"
   ]
  },
  {
   "cell_type": "code",
   "execution_count": 7,
   "id": "10f0a1bb-fd2a-4440-8f06-05b6176bae89",
   "metadata": {},
   "outputs": [
    {
     "data": {
      "text/html": [
       "<div>\n",
       "<style scoped>\n",
       "    .dataframe tbody tr th:only-of-type {\n",
       "        vertical-align: middle;\n",
       "    }\n",
       "\n",
       "    .dataframe tbody tr th {\n",
       "        vertical-align: top;\n",
       "    }\n",
       "\n",
       "    .dataframe thead th {\n",
       "        text-align: right;\n",
       "    }\n",
       "</style>\n",
       "<table border=\"1\" class=\"dataframe\">\n",
       "  <thead>\n",
       "    <tr style=\"text-align: right;\">\n",
       "      <th></th>\n",
       "      <th>Day</th>\n",
       "      <th>Date</th>\n",
       "      <th>Time</th>\n",
       "      <th>Name</th>\n",
       "      <th>Race</th>\n",
       "      <th>Sex</th>\n",
       "      <th>Age</th>\n",
       "      <th>Charge</th>\n",
       "      <th>Charge Description</th>\n",
       "      <th>Case ID</th>\n",
       "      <th>Race_Sex</th>\n",
       "    </tr>\n",
       "  </thead>\n",
       "  <tbody>\n",
       "    <tr>\n",
       "      <th>0</th>\n",
       "      <td>Thursday</td>\n",
       "      <td>2022-11-17</td>\n",
       "      <td>1147</td>\n",
       "      <td>GOOD, JASON LEROY</td>\n",
       "      <td>W</td>\n",
       "      <td>M</td>\n",
       "      <td>42</td>\n",
       "      <td>PB-15</td>\n",
       "      <td>PAROLE BOARD WARRANT - PB15</td>\n",
       "      <td>NaN</td>\n",
       "      <td>WM</td>\n",
       "    </tr>\n",
       "    <tr>\n",
       "      <th>1</th>\n",
       "      <td>Thursday</td>\n",
       "      <td>2022-11-17</td>\n",
       "      <td>842</td>\n",
       "      <td>SUMMER, KAHEEM WALI</td>\n",
       "      <td>B</td>\n",
       "      <td>M</td>\n",
       "      <td>43</td>\n",
       "      <td>19.2-82.1</td>\n",
       "      <td>FALSE IDENTIFY SELF TO LAW ENFORCEMENT</td>\n",
       "      <td>2.022014e+09</td>\n",
       "      <td>BM</td>\n",
       "    </tr>\n",
       "    <tr>\n",
       "      <th>2</th>\n",
       "      <td>Thursday</td>\n",
       "      <td>2022-11-17</td>\n",
       "      <td>1534</td>\n",
       "      <td>JONES, GAIL PAMELA</td>\n",
       "      <td>B</td>\n",
       "      <td>F</td>\n",
       "      <td>56</td>\n",
       "      <td>18.2-96|[M]</td>\n",
       "      <td>PETIT LARCENY</td>\n",
       "      <td>2.022014e+09</td>\n",
       "      <td>BF</td>\n",
       "    </tr>\n",
       "    <tr>\n",
       "      <th>3</th>\n",
       "      <td>Thursday</td>\n",
       "      <td>2022-11-17</td>\n",
       "      <td>1534</td>\n",
       "      <td>JONES, GAIL PAMELA</td>\n",
       "      <td>B</td>\n",
       "      <td>F</td>\n",
       "      <td>56</td>\n",
       "      <td>18.2-186.3</td>\n",
       "      <td>IDENTITY THEFT: USE TO AVOID ARREST</td>\n",
       "      <td>2.022014e+09</td>\n",
       "      <td>BF</td>\n",
       "    </tr>\n",
       "    <tr>\n",
       "      <th>4</th>\n",
       "      <td>Thursday</td>\n",
       "      <td>2022-11-17</td>\n",
       "      <td>1621</td>\n",
       "      <td>JONES, GAIL PAMELA</td>\n",
       "      <td>B</td>\n",
       "      <td>F</td>\n",
       "      <td>56</td>\n",
       "      <td>18.2-456(6)</td>\n",
       "      <td>FAIL TO APPEAR-FEL/MISD/SUMONS</td>\n",
       "      <td>NaN</td>\n",
       "      <td>BF</td>\n",
       "    </tr>\n",
       "  </tbody>\n",
       "</table>\n",
       "</div>"
      ],
      "text/plain": [
       "        Day       Date  Time                 Name Race Sex  Age       Charge  \\\n",
       "0  Thursday 2022-11-17  1147    GOOD, JASON LEROY    W   M   42        PB-15   \n",
       "1  Thursday 2022-11-17   842  SUMMER, KAHEEM WALI    B   M   43    19.2-82.1   \n",
       "2  Thursday 2022-11-17  1534   JONES, GAIL PAMELA    B   F   56  18.2-96|[M]   \n",
       "3  Thursday 2022-11-17  1534   JONES, GAIL PAMELA    B   F   56   18.2-186.3   \n",
       "4  Thursday 2022-11-17  1621   JONES, GAIL PAMELA    B   F   56  18.2-456(6)   \n",
       "\n",
       "                       Charge Description       Case ID Race_Sex  \n",
       "0             PAROLE BOARD WARRANT - PB15           NaN       WM  \n",
       "1  FALSE IDENTIFY SELF TO LAW ENFORCEMENT  2.022014e+09       BM  \n",
       "2                           PETIT LARCENY  2.022014e+09       BF  \n",
       "3     IDENTITY THEFT: USE TO AVOID ARREST  2.022014e+09       BF  \n",
       "4          FAIL TO APPEAR-FEL/MISD/SUMONS           NaN       BF  "
      ]
     },
     "execution_count": 7,
     "metadata": {},
     "output_type": "execute_result"
    }
   ],
   "source": [
    "# Reveal the top five rows\n",
    "\n",
    "df.head()"
   ]
  },
  {
   "cell_type": "code",
   "execution_count": 8,
   "id": "da718fdd-62da-4b55-8391-dc73f827cf3d",
   "metadata": {},
   "outputs": [
    {
     "data": {
      "text/html": [
       "<div>\n",
       "<style scoped>\n",
       "    .dataframe tbody tr th:only-of-type {\n",
       "        vertical-align: middle;\n",
       "    }\n",
       "\n",
       "    .dataframe tbody tr th {\n",
       "        vertical-align: top;\n",
       "    }\n",
       "\n",
       "    .dataframe thead th {\n",
       "        text-align: right;\n",
       "    }\n",
       "</style>\n",
       "<table border=\"1\" class=\"dataframe\">\n",
       "  <thead>\n",
       "    <tr style=\"text-align: right;\">\n",
       "      <th></th>\n",
       "      <th>Day</th>\n",
       "      <th>Date</th>\n",
       "      <th>Time</th>\n",
       "      <th>Race</th>\n",
       "      <th>Sex</th>\n",
       "      <th>Age</th>\n",
       "      <th>Charge Description</th>\n",
       "      <th>Race_Sex</th>\n",
       "    </tr>\n",
       "  </thead>\n",
       "  <tbody>\n",
       "    <tr>\n",
       "      <th>0</th>\n",
       "      <td>Thursday</td>\n",
       "      <td>2022-11-17</td>\n",
       "      <td>1147</td>\n",
       "      <td>W</td>\n",
       "      <td>M</td>\n",
       "      <td>42</td>\n",
       "      <td>PAROLE BOARD WARRANT - PB15</td>\n",
       "      <td>WM</td>\n",
       "    </tr>\n",
       "    <tr>\n",
       "      <th>1</th>\n",
       "      <td>Thursday</td>\n",
       "      <td>2022-11-17</td>\n",
       "      <td>842</td>\n",
       "      <td>B</td>\n",
       "      <td>M</td>\n",
       "      <td>43</td>\n",
       "      <td>FALSE IDENTIFY SELF TO LAW ENFORCEMENT</td>\n",
       "      <td>BM</td>\n",
       "    </tr>\n",
       "    <tr>\n",
       "      <th>2</th>\n",
       "      <td>Thursday</td>\n",
       "      <td>2022-11-17</td>\n",
       "      <td>1534</td>\n",
       "      <td>B</td>\n",
       "      <td>F</td>\n",
       "      <td>56</td>\n",
       "      <td>PETIT LARCENY</td>\n",
       "      <td>BF</td>\n",
       "    </tr>\n",
       "    <tr>\n",
       "      <th>3</th>\n",
       "      <td>Thursday</td>\n",
       "      <td>2022-11-17</td>\n",
       "      <td>1534</td>\n",
       "      <td>B</td>\n",
       "      <td>F</td>\n",
       "      <td>56</td>\n",
       "      <td>IDENTITY THEFT: USE TO AVOID ARREST</td>\n",
       "      <td>BF</td>\n",
       "    </tr>\n",
       "    <tr>\n",
       "      <th>4</th>\n",
       "      <td>Thursday</td>\n",
       "      <td>2022-11-17</td>\n",
       "      <td>1621</td>\n",
       "      <td>B</td>\n",
       "      <td>F</td>\n",
       "      <td>56</td>\n",
       "      <td>FAIL TO APPEAR-FEL/MISD/SUMONS</td>\n",
       "      <td>BF</td>\n",
       "    </tr>\n",
       "    <tr>\n",
       "      <th>...</th>\n",
       "      <td>...</td>\n",
       "      <td>...</td>\n",
       "      <td>...</td>\n",
       "      <td>...</td>\n",
       "      <td>...</td>\n",
       "      <td>...</td>\n",
       "      <td>...</td>\n",
       "      <td>...</td>\n",
       "    </tr>\n",
       "    <tr>\n",
       "      <th>389</th>\n",
       "      <td>Thursday</td>\n",
       "      <td>2022-12-29</td>\n",
       "      <td>2220</td>\n",
       "      <td>B</td>\n",
       "      <td>F</td>\n",
       "      <td>42</td>\n",
       "      <td>ESCAPE WITHOUT FORCE BY MISDEMEANANT</td>\n",
       "      <td>BF</td>\n",
       "    </tr>\n",
       "    <tr>\n",
       "      <th>390</th>\n",
       "      <td>Friday</td>\n",
       "      <td>2022-12-30</td>\n",
       "      <td>844</td>\n",
       "      <td>B</td>\n",
       "      <td>M</td>\n",
       "      <td>47</td>\n",
       "      <td>CONTEMPT OF COURT</td>\n",
       "      <td>BM</td>\n",
       "    </tr>\n",
       "    <tr>\n",
       "      <th>391</th>\n",
       "      <td>Friday</td>\n",
       "      <td>2022-12-30</td>\n",
       "      <td>844</td>\n",
       "      <td>B</td>\n",
       "      <td>M</td>\n",
       "      <td>47</td>\n",
       "      <td>REVOCATION OF SUSPENDED SENTENCE AND PROBATION</td>\n",
       "      <td>BM</td>\n",
       "    </tr>\n",
       "    <tr>\n",
       "      <th>392</th>\n",
       "      <td>Friday</td>\n",
       "      <td>2022-12-30</td>\n",
       "      <td>1015</td>\n",
       "      <td>B</td>\n",
       "      <td>M</td>\n",
       "      <td>47</td>\n",
       "      <td>DESTRUCTION OF PROPERTY, GENERAL</td>\n",
       "      <td>BM</td>\n",
       "    </tr>\n",
       "    <tr>\n",
       "      <th>393</th>\n",
       "      <td>Friday</td>\n",
       "      <td>2022-12-30</td>\n",
       "      <td>1015</td>\n",
       "      <td>B</td>\n",
       "      <td>M</td>\n",
       "      <td>47</td>\n",
       "      <td>TRESPASSING</td>\n",
       "      <td>BM</td>\n",
       "    </tr>\n",
       "  </tbody>\n",
       "</table>\n",
       "<p>394 rows × 8 columns</p>\n",
       "</div>"
      ],
      "text/plain": [
       "          Day       Date  Time Race Sex  Age  \\\n",
       "0    Thursday 2022-11-17  1147    W   M   42   \n",
       "1    Thursday 2022-11-17   842    B   M   43   \n",
       "2    Thursday 2022-11-17  1534    B   F   56   \n",
       "3    Thursday 2022-11-17  1534    B   F   56   \n",
       "4    Thursday 2022-11-17  1621    B   F   56   \n",
       "..        ...        ...   ...  ...  ..  ...   \n",
       "389  Thursday 2022-12-29  2220    B   F   42   \n",
       "390    Friday 2022-12-30   844    B   M   47   \n",
       "391    Friday 2022-12-30   844    B   M   47   \n",
       "392    Friday 2022-12-30  1015    B   M   47   \n",
       "393    Friday 2022-12-30  1015    B   M   47   \n",
       "\n",
       "                                 Charge Description Race_Sex  \n",
       "0                       PAROLE BOARD WARRANT - PB15       WM  \n",
       "1            FALSE IDENTIFY SELF TO LAW ENFORCEMENT       BM  \n",
       "2                                     PETIT LARCENY       BF  \n",
       "3               IDENTITY THEFT: USE TO AVOID ARREST       BF  \n",
       "4                    FAIL TO APPEAR-FEL/MISD/SUMONS       BF  \n",
       "..                                              ...      ...  \n",
       "389            ESCAPE WITHOUT FORCE BY MISDEMEANANT       BF  \n",
       "390                               CONTEMPT OF COURT       BM  \n",
       "391  REVOCATION OF SUSPENDED SENTENCE AND PROBATION       BM  \n",
       "392                DESTRUCTION OF PROPERTY, GENERAL       BM  \n",
       "393                                     TRESPASSING       BM  \n",
       "\n",
       "[394 rows x 8 columns]"
      ]
     },
     "execution_count": 8,
     "metadata": {},
     "output_type": "execute_result"
    }
   ],
   "source": [
    "# Remove the Name, Charge, and Case ID columns. We don't want identities revealed. \n",
    "\n",
    "df.drop(['Name', \"Charge\", \"Case ID\"], axis=1)"
   ]
  },
  {
   "cell_type": "code",
   "execution_count": 9,
   "id": "3b445efb-75b7-4ee1-b218-538f4f7c202a",
   "metadata": {},
   "outputs": [],
   "source": [
    "# Convert Time column into a time variable. \n",
    "\n",
    "time = df[\"Time\"]"
   ]
  },
  {
   "cell_type": "code",
   "execution_count": 10,
   "id": "0d5b05dc-90b6-4a5a-ad60-039f17c43c50",
   "metadata": {
    "tags": []
   },
   "outputs": [
    {
     "data": {
      "text/plain": [
       "1221.9137055837564"
      ]
     },
     "execution_count": 10,
     "metadata": {},
     "output_type": "execute_result"
    }
   ],
   "source": [
    "# Calculate the average time\n",
    "\n",
    "time.mean()"
   ]
  },
  {
   "cell_type": "code",
   "execution_count": 11,
   "id": "d198bfa1-51a1-4d08-8e9f-6f44000ac2ca",
   "metadata": {},
   "outputs": [
    {
     "data": {
      "text/plain": [
       "1242.5"
      ]
     },
     "execution_count": 11,
     "metadata": {},
     "output_type": "execute_result"
    }
   ],
   "source": [
    "# Calculate the median time\n",
    "\n",
    "time.median()"
   ]
  },
  {
   "cell_type": "code",
   "execution_count": 12,
   "id": "232e97a5-a7c6-46c5-bdea-0cf8ca881743",
   "metadata": {},
   "outputs": [
    {
     "data": {
      "text/plain": [
       "3"
      ]
     },
     "execution_count": 12,
     "metadata": {},
     "output_type": "execute_result"
    }
   ],
   "source": [
    "# Calculate the minimum time \n",
    "\n",
    "time.min()"
   ]
  },
  {
   "cell_type": "code",
   "execution_count": 13,
   "id": "d53a7529-0403-4231-a44c-fbe4f81e08ff",
   "metadata": {},
   "outputs": [
    {
     "data": {
      "text/plain": [
       "2359"
      ]
     },
     "execution_count": 13,
     "metadata": {},
     "output_type": "execute_result"
    }
   ],
   "source": [
    "# Calculate the maximum time\n",
    "\n",
    "time.max()"
   ]
  },
  {
   "cell_type": "code",
   "execution_count": 14,
   "id": "1f0929f0-d5af-4984-b790-33fbf527e53f",
   "metadata": {},
   "outputs": [
    {
     "data": {
      "text/plain": [
       "Race_Sex\n",
       "AM      1\n",
       "BF     59\n",
       "BM    242\n",
       "UM      2\n",
       "WF     23\n",
       "WM     67\n",
       "dtype: int64"
      ]
     },
     "execution_count": 14,
     "metadata": {},
     "output_type": "execute_result"
    }
   ],
   "source": [
    "# Count the sum of each race and sex combination. \n",
    "\n",
    "race_sex_count = df.groupby([\"Race_Sex\"]).size()\n",
    "race_sex_count"
   ]
  },
  {
   "cell_type": "code",
   "execution_count": 15,
   "id": "eeac2c8c-5bba-43bd-9ebe-c3d7a26d87b4",
   "metadata": {},
   "outputs": [],
   "source": [
    "# Group each day of the week and then count\n",
    "\n",
    "occur = df.groupby([\"Day\"]).size()"
   ]
  },
  {
   "cell_type": "code",
   "execution_count": 16,
   "id": "f10dca6a-ac53-4944-8a40-2e603c15aa51",
   "metadata": {},
   "outputs": [
    {
     "data": {
      "text/plain": [
       "Day\n",
       "Friday       57\n",
       "Monday       56\n",
       "Saturday     60\n",
       "Sunday       24\n",
       "Thursday     74\n",
       "Tuesday      76\n",
       "Wednesday    47\n",
       "dtype: int64"
      ]
     },
     "metadata": {},
     "output_type": "display_data"
    }
   ],
   "source": [
    "# Show the occur variable \n",
    "\n",
    "display(occur)"
   ]
  },
  {
   "cell_type": "code",
   "execution_count": 17,
   "id": "1f419283-3e29-4fca-bebf-6d5272539e73",
   "metadata": {},
   "outputs": [
    {
     "data": {
      "text/plain": [
       "76"
      ]
     },
     "execution_count": 17,
     "metadata": {},
     "output_type": "execute_result"
    }
   ],
   "source": [
    "# Tuesday is the day when the maximum number of crimes occurred\n",
    "# Find the day with most crimes\n",
    "\n",
    "occur.max()"
   ]
  },
  {
   "cell_type": "code",
   "execution_count": 18,
   "id": "2d402d2e-215e-4634-84b9-4d640d58e379",
   "metadata": {},
   "outputs": [
    {
     "data": {
      "text/plain": [
       "24"
      ]
     },
     "execution_count": 18,
     "metadata": {},
     "output_type": "execute_result"
    }
   ],
   "source": [
    "# Sunday had the fewest crimes\n",
    "# Find the day with the least crimes\n",
    "\n",
    "occur.min()"
   ]
  },
  {
   "cell_type": "code",
   "execution_count": 19,
   "id": "c115a073-381d-4ef9-8791-25ebd9fa2c78",
   "metadata": {},
   "outputs": [
    {
     "data": {
      "text/plain": [
       "57.0"
      ]
     },
     "execution_count": 19,
     "metadata": {},
     "output_type": "execute_result"
    }
   ],
   "source": [
    "# Friday was the median number of crimes\n",
    "# Find the day with the median number of crimes \n",
    "\n",
    "occur.median()"
   ]
  },
  {
   "cell_type": "code",
   "execution_count": 20,
   "id": "5cafa0ff-649b-4e70-ac24-f51e9e0bef3c",
   "metadata": {},
   "outputs": [],
   "source": [
    "# Create a race variable that groups the categories together and counts them\n",
    "\n",
    "race = df.groupby([\"Race\"]).size()"
   ]
  },
  {
   "cell_type": "code",
   "execution_count": 21,
   "id": "9ecc9613-ca54-41ab-8b4c-1692d748dfeb",
   "metadata": {},
   "outputs": [
    {
     "data": {
      "text/plain": [
       "Race\n",
       "A      1\n",
       "B    301\n",
       "U      2\n",
       "W     90\n",
       "dtype: int64"
      ]
     },
     "execution_count": 21,
     "metadata": {},
     "output_type": "execute_result"
    }
   ],
   "source": [
    "# Show the count of each race for the Race column\n",
    "\n",
    "race"
   ]
  },
  {
   "cell_type": "code",
   "execution_count": 22,
   "id": "0cf428c7-4237-4f9d-b1f3-0e93080303cb",
   "metadata": {},
   "outputs": [
    {
     "data": {
      "text/plain": [
       "Sex\n",
       "F     82\n",
       "M    312\n",
       "dtype: int64"
      ]
     },
     "execution_count": 22,
     "metadata": {},
     "output_type": "execute_result"
    }
   ],
   "source": [
    "# Create gender variable and count each group\n",
    "\n",
    "gender = df.groupby([\"Sex\"]).size()\n",
    "gender"
   ]
  },
  {
   "cell_type": "code",
   "execution_count": 23,
   "id": "bf9844e0-7587-4d88-be22-78df49689a5e",
   "metadata": {},
   "outputs": [
    {
     "data": {
      "text/plain": [
       "count    394.000000\n",
       "mean      36.845178\n",
       "std       10.344641\n",
       "min       18.000000\n",
       "25%       30.000000\n",
       "50%       35.000000\n",
       "75%       42.000000\n",
       "max       73.000000\n",
       "Name: Age, dtype: float64"
      ]
     },
     "execution_count": 23,
     "metadata": {},
     "output_type": "execute_result"
    }
   ],
   "source": [
    "# Age summary statistics\n",
    "\n",
    "df[\"Age\"].describe()"
   ]
  },
  {
   "cell_type": "code",
   "execution_count": 24,
   "id": "74a3072e-c0b2-449b-932f-e6f76ec54ba9",
   "metadata": {},
   "outputs": [
    {
     "data": {
      "text/plain": [
       "<AxesSubplot:xlabel='Age', ylabel='Count'>"
      ]
     },
     "execution_count": 24,
     "metadata": {},
     "output_type": "execute_result"
    },
    {
     "data": {
      "image/png": "[encoded data removed]",
      "text/plain": [
       "<Figure size 640x480 with 1 Axes>"
      ]
     },
     "metadata": {},
     "output_type": "display_data"
    }
   ],
   "source": [
    "sns.histplot(data = df, x = df[\"Age\"])"
   ]
  },
  {
   "cell_type": "code",
   "execution_count": 25,
   "id": "3df73397-e1f2-4b2e-80c8-cfd59d9a9e25",
   "metadata": {},
   "outputs": [
    {
     "data": {
      "text/plain": [
       "<AxesSubplot:xlabel='Race', ylabel='Age'>"
      ]
     },
     "execution_count": 25,
     "metadata": {},
     "output_type": "execute_result"
    },
    {
     "data": {
      "image/png": "[encoded data removed]",
      "text/plain": [
       "<Figure size 640x480 with 1 Axes>"
      ]
     },
     "metadata": {},
     "output_type": "display_data"
    }
   ],
   "source": [
    "# Age and Race Bar Plot\n",
    "sns.barplot(data = df, x = \"Race\", y = \"Age\")"
   ]
  },
  {
   "cell_type": "code",
   "execution_count": 26,
   "id": "3ae773b9-62ea-4672-bb82-6199b680bca4",
   "metadata": {},
   "outputs": [
    {
     "data": {
      "text/plain": [
       "<AxesSubplot:xlabel='Sex', ylabel='Age'>"
      ]
     },
     "execution_count": 26,
     "metadata": {},
     "output_type": "execute_result"
    },
    {
     "data": {
      "image/png": "[encoded data removed]",
      "text/plain": [
       "<Figure size 640x480 with 1 Axes>"
      ]
     },
     "metadata": {},
     "output_type": "display_data"
    }
   ],
   "source": [
    "# Age & Gender Bar Plot\n",
    "sns.barplot(data = df, x = \"Sex\", y = \"Age\")"
   ]
  },
  {
   "cell_type": "code",
   "execution_count": 27,
   "id": "3012e945-c5e4-4f6e-9c57-297c6b6a3cd8",
   "metadata": {},
   "outputs": [
    {
     "data": {
      "text/plain": [
       "<AxesSubplot:xlabel='Race_Sex', ylabel='Count'>"
      ]
     },
     "execution_count": 27,
     "metadata": {},
     "output_type": "execute_result"
    },
    {
     "data": {
      "image/png": "[encoded data removed]",
      "text/plain": [
       "<Figure size 640x480 with 1 Axes>"
      ]
     },
     "metadata": {},
     "output_type": "display_data"
    }
   ],
   "source": [
    "# Race_Sex Count\n",
    "sns.histplot(data = df, x = \"Race_Sex\", palette = \"Blue\")"
   ]
  },
  {
   "cell_type": "code",
   "execution_count": 28,
   "id": "d06169fd-8953-4e40-98ba-0c2ea1c76b36",
   "metadata": {},
   "outputs": [
    {
     "data": {
      "text/plain": [
       "<AxesSubplot:xlabel='Time', ylabel='Count'>"
      ]
     },
     "execution_count": 28,
     "metadata": {},
     "output_type": "execute_result"
    },
    {
     "data": {
      "image/png": "[encoded data removed]",
      "text/plain": [
       "<Figure size 640x480 with 1 Axes>"
      ]
     },
     "metadata": {},
     "output_type": "display_data"
    }
   ],
   "source": [
    "# Histogram of Time when arrest occurred\n",
    "# My car got hit at ~10:30am right when crime starts to occur usually.\n",
    "\n",
    "sns.histplot(data = df, x = \"Time\", color = \"green\", binwidth = 100)"
   ]
  },
  {
   "cell_type": "code",
   "execution_count": 29,
   "id": "413c4630-3e04-4a21-941f-fc7437c2e8cd",
   "metadata": {
    "tags": []
   },
   "outputs": [
    {
     "data": {
      "text/plain": [
       "Charge Description\n",
       "18.2-460. OBSTRUCTING JUSTICE; RESISTING ARREST; FLEEING FRS    5\n",
       "ABDUCTION & KIDNAPPING                                          4\n",
       "ABUSE AND NEGLECT OF CHILDREN                                   3\n",
       "ACCIDENTS - HIT AND RUN RESULTING IN INJURY AND/OR DEATH [FE    2\n",
       "AGGRAVATED MALICIOUS WOUNDING                                   2\n",
       "                                                               ..\n",
       "VIOLATE CONDITION OF RELEASE                                    3\n",
       "VIOLATION OF COMMUNITY CORRECTIONS PROGRAM                      1\n",
       "VIOLATION OF PROTECTIVE ORDER THIRD OFFENSE                     1\n",
       "VIOLATION OF STALKING PROTECTIVE ORDER                          2\n",
       "WEARING MASK IN PUBLIC PLACE                                    2\n",
       "Length: 91, dtype: int64"
      ]
     },
     "execution_count": 29,
     "metadata": {},
     "output_type": "execute_result"
    }
   ],
   "source": [
    "# Create a charges variable to show the count of each type of charge \n",
    "\n",
    "charges = df.groupby([\"Charge Description\"]).size()\n",
    "charges"
   ]
  },
  {
   "cell_type": "code",
   "execution_count": 30,
   "id": "ad4796a6-b2e5-43f1-9c84-75edd19862c4",
   "metadata": {},
   "outputs": [
    {
     "data": {
      "text/plain": [
       "Charge Description\n",
       "18.2-460. OBSTRUCTING JUSTICE; RESISTING ARREST; FLEEING FRS    5\n",
       "ABDUCTION & KIDNAPPING                                          4\n",
       "ABUSE AND NEGLECT OF CHILDREN                                   3\n",
       "ACCIDENTS - HIT AND RUN RESULTING IN INJURY AND/OR DEATH [FE    2\n",
       "AGGRAVATED MALICIOUS WOUNDING                                   2\n",
       "                                                               ..\n",
       "VIOLATE CONDITION OF RELEASE                                    3\n",
       "VIOLATION OF COMMUNITY CORRECTIONS PROGRAM                      1\n",
       "VIOLATION OF PROTECTIVE ORDER THIRD OFFENSE                     1\n",
       "VIOLATION OF STALKING PROTECTIVE ORDER                          2\n",
       "WEARING MASK IN PUBLIC PLACE                                    2\n",
       "Length: 91, dtype: int64"
      ]
     },
     "execution_count": 30,
     "metadata": {},
     "output_type": "execute_result"
    }
   ],
   "source": [
    "# Create the charge_text variable and count the charges\n",
    "\n",
    "charge_text = df.groupby([\"Charge Description\"]).size()\n",
    "charge_text"
   ]
  },
  {
   "cell_type": "code",
   "execution_count": 32,
   "id": "eb5f1cc2-6211-48a2-9fff-ae3bcc643004",
   "metadata": {},
   "outputs": [
    {
     "data": {
      "text/plain": [
       "count    91.000000\n",
       "mean      4.329670\n",
       "std       6.211199\n",
       "min       1.000000\n",
       "25%       1.000000\n",
       "50%       2.000000\n",
       "75%       4.500000\n",
       "max      38.000000\n",
       "dtype: float64"
      ]
     },
     "execution_count": 32,
     "metadata": {},
     "output_type": "execute_result"
    }
   ],
   "source": [
    "# Get summary statistics for the charges\n",
    "\n",
    "charge_text.describe()"
   ]
  },
  {
   "cell_type": "code",
   "execution_count": 33,
   "id": "532a73d5-7c8b-405b-8cb0-8133161799ae",
   "metadata": {},
   "outputs": [],
   "source": [
    "# Sort charges in descending order\n",
    "\n",
    "sorted_charge = charge_text.sort_values(ascending = False)"
   ]
  },
  {
   "cell_type": "code",
   "execution_count": 34,
   "id": "a30f907e-a9c6-488b-a5fe-3e91a657ca2d",
   "metadata": {},
   "outputs": [
    {
     "name": "stdout",
     "output_type": "stream",
     "text": [
      "Charge Description\n",
      "FAIL TO APPEAR-FEL/MISD/SUMONS                                  38\n",
      "ASSAULT & BATTERY - FAMILY MEMBER                               28\n",
      "REVOCATION OF SUSPENDED SENTENCE AND PROBATION                  26\n",
      "CONTEMPT OF COURT                                               17\n",
      "ASSAULT & BATTERY                                               17\n",
      "FELONIOUS ASSAULT                                               14\n",
      "PETIT LARCENY                                                   12\n",
      "POSSESS, TRANSPORT FIREARMS BY CONVICTED FELONS                 12\n",
      "OBSTRUCT/RESIST                                                 11\n",
      "DESTRUCTION OF PROPERTY, GENERAL                                11\n",
      "TRESPASSING                                                     10\n",
      "POSSESSION OF CONTROLLED SUBSTANCES                             10\n",
      "DRIVING UNDER THE INFLUENCE OF ALCOHOL                           9\n",
      "ROBBERY                                                          8\n",
      "DISORDERLY CONDUCT                                               8\n",
      "BRANDISHING FIREARM                                              8\n",
      "DRIVING W/SUSPENDED OR REVOKED LICENSE                           7\n",
      "BREAKING & ENTER W/INT TO COMMIT FELONY                          7\n",
      "USE OR DISPLAY FIREARM IN COMMISSION OF FELONY                   7\n",
      "GRAND LARCENY                                                    6\n",
      "RECKLESS HANDLING OF FIREARM                                     5\n",
      "DESTRUCTION OF PROPERTY GENERAL -VALUE >=$1000                   5\n",
      "18.2-460. OBSTRUCTING JUSTICE; RESISTING ARREST; FLEEING FRS     5\n",
      "ABDUCTION & KIDNAPPING                                           4\n",
      "STRANGULATION OF ANOTHER                                         4\n",
      "PAROLE BOARD WARRANT - PB15                                      4\n",
      "ABUSE AND NEGLECT OF CHILDREN                                    3\n",
      "NO DRIVERS LICENSE                                               3\n",
      "VIOLATE CONDITION OF RELEASE                                     3\n",
      "TAKING INDECENT LIBERTIES WITH CHILD                             3\n",
      "CONTRIBUTING TO THE DELINQUENCY OF A MINOR                       3\n",
      "SHOOTING OR STABBING IN COMMISSION OF A FELONY                   3\n",
      "CARRYING CONCEALED WEAPON -1ST OFFENSE                           3\n",
      "DISCHARGE FIREARM IN PUBLIC PLACE                                3\n",
      "THREATS OF DEATH OR BODILY INJURY BY LETTER                      3\n",
      "STALKING                                                         2\n",
      "POSSESS FIREARM WHILE IN POSSESSION OF DRUGS                     2\n",
      "SEXUAL BATTERY                                                   2\n",
      "PROFANE, THREATENING LANGUAGE OVER PUBLIC AIRWAY                 2\n",
      "VIOLATION OF STALKING PROTECTIVE ORDER                           2\n",
      "MURDER - FIRST DEGREE                                            2\n",
      "MURDER                                                           2\n",
      "MOTOR VEHICLE THEFT                                              2\n",
      "WEARING MASK IN PUBLIC PLACE                                     2\n",
      "ACCIDENTS - HIT AND RUN RESULTING IN INJURY AND/OR DEATH [FE     2\n",
      "CRUELTY AND INJURY TO CHILDREN                                   2\n",
      "AGGRAVATED MALICIOUS WOUNDING                                    2\n",
      "AGGRAVATED SEXUAL BATTERY                                        2\n",
      "FALSE IDENTIFY SELF TO LAW ENFORCEMENT                           2\n",
      "ASSAULT & BATTERY - FAMILY MEMBER (3RD OFFENSE)                  2\n",
      "CONSPIRACY TO COMMIT FELONY                                      2\n",
      "CONCEALMENT, PRICE ALTER MERCHANDISE <$200                       2\n",
      "FAIL TO APPEAR ON MISDEMEANOR CHARGE                             2\n",
      "FORGING, UTTERING                                                1\n",
      "BURGLARY                                                         1\n",
      "RECKLESS DRIVING - EXCESSIVE SPEED                               1\n",
      "REVOCATION OF PRETRIAL RELEASE                                   1\n",
      "COURTESY HOLD                                                    1\n",
      "CARJACKING                                                       1\n",
      "BREAKING & ENTER W/INT TO COMMIT MISDEMEANOR                     1\n",
      "STOLEN PROPERTY: W/ INTENT TO SELL, LARCENY>$200                 1\n",
      "PROTECTIVE ORDER: 3RD VIOL W/IN 20YRS                            1\n",
      "ASSAULT OR BATTERY BY MOB                                        1\n",
      "THREATS TO BOMB OR DAMAGE BUILDING                               1\n",
      "ALTER OR DEFACE SERIAL NUMBERS                                   1\n",
      "VIOLATION OF COMMUNITY CORRECTIONS PROGRAM                       1\n",
      "VIOLATION OF PROTECTIVE ORDER THIRD OFFENSE                      1\n",
      "PUBLIC DRUNKENNESS                                               1\n",
      "DRIVING AFTER ILLEGALLY CONSUMING ALCOHOL                        1\n",
      "PROHIBITION AGAINST CONCEALMENT OF DEAD BODY; PENALTY            1\n",
      "FIREARM VIOLATION - AFTER INVOLUNTARY COMMITMENT                 1\n",
      "IDENTITY THEFT: USE TO AVOID ARREST                              1\n",
      "INDECENT EXPOSURE                                                1\n",
      "INHALING DRUGS OR INDUCING OTHERS TO                             1\n",
      "INJURY - CAUSTIC AGENT, EXPLOSIVE OR FIRE                        1\n",
      "MALICIOUS WOUNDING BY MOB                                        1\n",
      "MANUF, SALE, POSSESSION CONTROLLED SUBSTANCE                     1\n",
      "FIREARM PURCHASE OR DEALER VIOLATION                             1\n",
      "FAIL TO SECURE MEDICAL ATTENTION -INJURED CHILD                  1\n",
      "MURDER - SECOND DEGREE                                           1\n",
      "FAIL TO COMPLY WITH SUPPORT OBLIGATIONS                          1\n",
      "OBTAINING MONEY BY FALSE PRETENSES                               1\n",
      "ORAL THREATS TO KILL OR INJURE SCHOOL EMPLOYEE                   1\n",
      "PAROLE BOARD WARRANT - PB14                                      1\n",
      "FAIL TO APPEAR ON FELONY CHARGE                                  1\n",
      "ESCAPE WITHOUT FORCE BY MISDEMEANANT                             1\n",
      "ELUDING POLICE - ENDANGER PERSONS OR POLICE CAR                  1\n",
      "ELUDING POLICE                                                   1\n",
      "DUI - THIRD OR SUBSEQUENT OFFENSE                                1\n",
      "POSSESSION WITH INTENT TO DISTRIBUTE SYNTHETIC CANNABINOIDS      1\n",
      "IDENTITY FRAUD                                                   1\n"
     ]
    }
   ],
   "source": [
    "# Print full sorted charge by converting variable to string\n",
    "charge_count = print(sorted_charge.to_string())"
   ]
  },
  {
   "cell_type": "code",
   "execution_count": 1,
   "id": "d14ce241-c10c-4a9a-8588-52474f81b317",
   "metadata": {},
   "outputs": [],
   "source": [
    "\"\"\"\n",
    "207 people have 394 charges, or about just under 2 charges per person arrested\n",
    "207 people over 45 days \n",
    "8.11 periods of 45 days in a year times 207\n",
    "1678 people arrested estimated for all of 2022\n",
    "97,915 people in Portsmouth, VA \n",
    "1678 arrests / 97,915 people = 1.71% of population arrested (presumed innocent until guilty) in 2022 and four charges of murder (murder and 1st degree murder)\n",
    "Most arrest are for procedural violations (parole violations, didn't show up for court). \n",
    "\n",
    "\"\"\"\n"
   ]
  }
 ],
 "metadata": {
  "kernelspec": {
   "display_name": "Python 3 (ipykernel)",
   "language": "python",
   "name": "python3"
  },
  "language_info": {
   "codemirror_mode": {
    "name": "ipython",
    "version": 3
   },
   "file_extension": ".py",
   "mimetype": "text/x-python",
   "name": "python",
   "nbconvert_exporter": "python",
   "pygments_lexer": "ipython3",
   "version": "3.9.13"
  }
 },
 "nbformat": 4,
 "nbformat_minor": 5
}
